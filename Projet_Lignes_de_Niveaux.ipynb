{
 "cells": [
  {
   "cell_type": "markdown",
   "metadata": {},
   "source": [
    "#  Notebook Projet Mathématiques : Courbes de Niveaux\n",
    "\n"
   ]
  },
  {
   "cell_type": "markdown",
   "metadata": {},
   "source": [
    "### Un projet de Thomas Monnier et Jean Catry\n"
   ]
  },
  {
   "cell_type": "markdown",
   "metadata": {},
   "source": [
    "A cause d'une certaine erreur dans contour_simple que nous n'arrivons pas à élucider, nous n'avons pu tester nos fonctions et tenter de tracer des courbes de niveaux sur des fonctions analytiques données. Néanmoins, voici l'ensemble du code qui nous paraît capable d'effectuer cette tâche."
   ]
  },
  {
   "cell_type": "markdown",
   "metadata": {},
   "source": [
    "## I. Zones d'importations "
   ]
  },
  {
   "cell_type": "code",
   "execution_count": 114,
   "metadata": {},
   "outputs": [],
   "source": [
    "from math import *\n",
    "import autograd\n",
    "from autograd import numpy as np\n",
    "import matplotlib.pyplot as plt\n",
    "%matplotlib inline"
   ]
  },
  {
   "cell_type": "markdown",
   "metadata": {},
   "source": [
    "## II. Fonction utilisée"
   ]
  },
  {
   "cell_type": "code",
   "execution_count": 115,
   "metadata": {},
   "outputs": [],
   "source": [
    "def norm(h):                                          #normalisation vecteur\n",
    "    x, y = h\n",
    "    return np.sqrt(x**2 + y**2)\n"
   ]
  },
  {
   "cell_type": "markdown",
   "metadata": {},
   "source": [
    "## III. Recherche de la racine\n"
   ]
  },
  {
   "cell_type": "markdown",
   "metadata": {},
   "source": [
    "### Amorce :\n",
    "\n",
    "> Il faut que **f(0,0) < c < f(0,1)** ou **f(0,1) < c < f(0,0)** pour utiliser le __théorème des valeurs intermédiaires__ car *f est continûment différentiable*."
   ]
  },
  {
   "cell_type": "code",
   "execution_count": 116,
   "metadata": {},
   "outputs": [],
   "source": [
    "#Méthode de Newton : approximation du zéro rechérché par les zéros des tangentes successives\n",
    "def find_seed(f, c = 0, eps = 2**(-26)): \n",
    "    if f(0, 0) <= c <= f(0, 1)  or f(0, 0) >= c >= f(0, 1):     #condition expliquée ci-haut\n",
    "        ind = 10**(-4)                                          #pas de la méthode\n",
    "        t = 0.0         \n",
    "        def h(x):\n",
    "            return g(0, x) - c                                  #newton cherche le zéro d'une fonction... donc on crée h\n",
    "        i = 0\n",
    "        while abs(h(t)) > eps and i < 100:                      #condition portée sur newton et sur l'arrêt de la fonction\n",
    "            h_prime = (h(t + ind) - h(t))/ind                 #au cas où Newton n'est pas capable de réussir à trouver le zéro\n",
    "            t = t - h(t)/h_prime\n",
    "    else: \n",
    "         return None\n",
    "    return t"
   ]
  },
  {
   "cell_type": "markdown",
   "metadata": {},
   "source": [
    "On teste find_seed :"
   ]
  },
  {
   "cell_type": "code",
   "execution_count": 117,
   "metadata": {},
   "outputs": [
    {
     "data": {
      "text/plain": [
       "0.7071067811881281"
      ]
     },
     "execution_count": 117,
     "metadata": {},
     "output_type": "execute_result"
    }
   ],
   "source": [
    "def g(x, y):\n",
    "    return(x**2 + y**2 - 0.5 )\n",
    "find_seed(g, c = 0, eps = 2**(-26))"
   ]
  },
  {
   "cell_type": "markdown",
   "metadata": {},
   "source": [
    " Pour pouvoir appliquer la méthode de Newton à une fonction à deux variables, on va vouloir construire une fonction allant de R² dans R². Or nous travaillons avec une fonction allant de R² dans R. Comment faire ? \n",
    "Tout simplement poser g la fonction qui à (x, y) de R² associe (f(x, y), 0).\n",
    "Dans ce cas, la jacobienne est évidente... et la méthode de Newton qui utiise cette jacobienne est faisable (en théorie) !"
   ]
  },
  {
   "cell_type": "markdown",
   "metadata": {},
   "source": [
    "### Méthode de Newton de R² vers R²"
   ]
  },
  {
   "cell_type": "code",
   "execution_count": 118,
   "metadata": {},
   "outputs": [],
   "source": [
    "#Méthode de Newton : approximation du zéro pour une fonction à deux variables\n",
    "def find_seed_dvar(f, x0, y0, c = 0.0, eps = 2**(-26)):\n",
    "    def h(x, y):                                 #Fonction de R² dans R\n",
    "        return( np.array([f(x, y) - c, 0.0]))\n",
    "    \n",
    "    x = [x0]\n",
    "    y = [y0]\n",
    "    i = 0\n",
    "    def J_h(x, y):\n",
    "        j = autograd.jacobian\n",
    "        return np.c_[j(h, 0)(x, y), j(h, 1)(x, y)]    \n",
    "                                                      \n",
    "    while norm(h(x[i], y[i])) > eps:\n",
    "        J = J_h(x[i], y[i])\n",
    "       \n",
    "        #si la matrice jacobienne n'est pas inversible on retourne la meilleure approximation possible\n",
    "        try:\n",
    "            J.inv()\n",
    "        except:\n",
    "            return x[i], y[i]\n",
    "        a, b = - h(x[i], y[i])\n",
    "        c, d = np.linalg.solve(J, np.array[a, b])     \n",
    "        x.append(c)    \n",
    "        y.append(d)\n",
    "        i = i + 1\n",
    "    return x[-1], y[-1]\n"
   ]
  },
  {
   "cell_type": "markdown",
   "metadata": {},
   "source": [
    "## IV. Propagation avec *simple_contour*"
   ]
  },
  {
   "cell_type": "markdown",
   "metadata": {},
   "source": [
    " **Principe mathématique** Notre fonction simple_contour utilise le fait que le gradient d'une fonction en un point est orthogonal à la direction de la courbe de niveau en ce point. On peut alors faire un approximation affine du prochaine point:\n",
    " pour une gradient (a, b),\n",
    " l'orthogonal est:   <br>     \n",
    " \n",
    "                                    +- (b, -a) <br>\n",
    "                  \n",
    " on le normalise, on multiplie par delta (distance voulue entre chaque point)\n",
    " on obtient le point suivant:  <br>\n",
    " \n",
    "     (s, t) = (x[i], y[i]) + E*((b, - a)/norm((b, - a)))*delta         avec E = +-1  <br>\n",
    "     \n",
    " Il ne reste plus qu'à choisir le bon point parmis ces deux là: c'est celui qui ne nous fait pas 'revenir sur nos pas': <br> cela revient à trouver la distance maximale entre le point i-1 et les nouveaux points, et choisir le point correspondant.\n",
    " \n",
    " cependant cette méthode est un approximation, pour trouver le point (x[i+1], y[i+1]), on procède à un méthode de Newton de R² vers R²."
   ]
  },
  {
   "cell_type": "code",
   "execution_count": 119,
   "metadata": {},
   "outputs": [],
   "source": [
    "def simple_contour(f, c = 0.0, delta = 0.01):\n",
    "    def grad_f(x, y):                                   #défintion du gradient d'une fonction f au point (x, y)\n",
    "        gr = autograd.grad                               #ATTENTION la solution proposée par autograd pour le gradient ne permet \n",
    "        return np.r_[gr(f, 0)(x, y), gr(f, 1)(x, y)]      #apparemment pas de créer une fonction 'grad' ayant pour argument f:\n",
    "                                                        #c'est pourquoi on doit définir le gradient à l'intérieur de \n",
    "                                                        #simple_contour\n",
    "    \n",
    "    if find_seed(f, c) == None:\n",
    "        \n",
    "        return [], []\n",
    "    else: \n",
    "        x = [0.0]\n",
    "        y = [find_seed(f, c)]\n",
    "        \n",
    "        # on initialise un compteur pour connaître les deux derniers points ajoutés\n",
    "        i=0\n",
    "        \n",
    "        # avant de procéder à la définition de nouveau points de la courbe avec une boucle, on place le deuxième point: \n",
    "        a, b = grad_f(x[i], y[i])\n",
    "        E = b/abs(b)\n",
    "        \n",
    "        # des deux possibles obtenus avec la méthode utilisant le vecteur orthonormal au gradient, on ne veut garder que \n",
    "        # celui qui a un abcisse strictement positive\n",
    "        \n",
    "        if norm((b, -a)) != 0: \n",
    "                (s, t) = (x[i] + E*(b/norm((b, -a)))*delta, y[i] - E*(a/norm((b, -a)))*delta) \n",
    "                \n",
    "                #Pour être précis il faut refaire un Newton sur une fonction à deux variables, implémenté plus haut.\n",
    "                e, m = find_seed_dvar(f, s, t, c)   \n",
    "                x.append(e)\n",
    "                y.append(m)\n",
    "        else:\n",
    "                x.append(x[0] + delta)\n",
    "                y.append(y[0] + delta)\n",
    "        i += 1\n",
    "        # on utilise maintenant une boucle, avec pour condition que les points doivent rester dans le carré considéré\n",
    "        while 0 <= x[i] <= 1 and 0 <= y[i] <= 1:\n",
    "            a, b = grad_f(x[i], y[i])\n",
    "            \n",
    "            #si le gradient est non nul on peut utiliser la méthode évoquée plus haut.\n",
    "            if norm((b, -a)) != 0:\n",
    "                \n",
    "                # on détermine les deux points possibles avec la technique du gradient \"orthogonal à la courbe\"\n",
    "                (s1, t1) = (x[i] - (b/norm((b, -a)))*delta, y[i] + (a/norm((b, -a)))*delta) \n",
    "                (s2, t2) = (x[i] + (b/norm((b, -a)))*delta, y[i] - (a/norm((b, -a)))*delta) \n",
    "                \n",
    "                # on choisi le point le plus éloigné du point i-1, pour être sûr de ne pas rebrousser chemin\n",
    "                if norm((s1 - x[i-1], t1 - y[i-1])) < norm((s2 - x[i-1], t2 - y[i-1])):      \n",
    "                    s = s2\n",
    "                    t = t2\n",
    "                else:\n",
    "                    s = s1\n",
    "                    t = t1\n",
    "                i += 1    \n",
    "                \n",
    "                #Une fois choisi le \"coté\" où sera le prochain point, pour être précis il faut refaire un Newton, \n",
    "                #cette fois-ci de R2 dans R2, tel que défini plus haut.\n",
    "                x1, y1 = find_seed_dvar(f, s, t, c)                               \n",
    "                x.append(x1)\n",
    "                y.append(y1)\n",
    "                \n",
    "            else:                   # ici si le gradient est nul, on est bloqué sur ce point, on s'en décale arbitrairement de delta\n",
    "                x.append(x[i] + delta)\n",
    "                y.append(y[i] + delta)\n",
    "                i = i + 1\n",
    "        # le dernier point n'est en plus dans le carré, on le supprime donc.\n",
    "        x.pop()\n",
    "        y.pop()\n",
    "    return x, y\n",
    "    \n",
    "        \n",
    "    "
   ]
  },
  {
   "cell_type": "markdown",
   "metadata": {},
   "source": [
    "Zone de test avec différentes fonctions, quadratiques ou non :"
   ]
  },
  {
   "cell_type": "code",
   "execution_count": 120,
   "metadata": {
    "scrolled": true
   },
   "outputs": [
    {
     "name": "stdout",
     "output_type": "stream",
     "text": [
      "([], [])\n"
     ]
    },
    {
     "data": {
      "image/png": "[encoded data removed]",
      "text/plain": [
       "<Figure size 432x288 with 1 Axes>"
      ]
     },
     "metadata": {
      "needs_background": "light"
     },
     "output_type": "display_data"
    }
   ],
   "source": [
    "def ff(x, y):\n",
    "    return (x**2 + y**2 - 0.5 )\n",
    "def g1(x, y):\n",
    "    return(x**2 + x*y - y**2)\n",
    "def g2(x, y):\n",
    "    return(x + y -0.25)\n",
    "\n",
    "print(simple_contour(ff, 1))\n",
    "\n",
    "xs, ys = simple_contour(ff, 0.0)\n",
    "plt.plot(xs, ys, \"+\", color = 'blue')\n",
    "plt.show()\n"
   ]
  },
  {
   "cell_type": "markdown",
   "metadata": {},
   "source": [
    "#### Commentaire"
   ]
  },
  {
   "cell_type": "markdown",
   "metadata": {},
   "source": [
    "On obtient pas exactement l'équation de cercle attendue, il y a sûrement des dérives au fur et à mesure de la construction des points. "
   ]
  },
  {
   "cell_type": "markdown",
   "metadata": {},
   "source": [
    "## V. Elaboration du *Contour Complexe*"
   ]
  },
  {
   "cell_type": "markdown",
   "metadata": {},
   "source": [
    "L'idée principale de ce projet est de paver R² (en partie) avec des carrés délimités grâce à deux listes Xc et Yc.\n",
    "On souhaite appliquer simple_contour sur chacun de ces pavés, et ce à partir de chaque frontière du carré, et plus seulement celle de gauche. <br>\n",
    "Une **hypothèse simplificatrice** est ici de dire qu'on suppose ces carrés suffisament petit pour ne tomber sur qu'une seule courbe de niveau, qui ne se plie pas trop. Un cas pathologique typique serait d'avoir deux points de valeurs c sur une frontière, ce qui empêcherait find_seed de bien fonctionner. On eclue ces cas-là, quitte à diminuer le pas.\n"
   ]
  },
  {
   "cell_type": "markdown",
   "metadata": {},
   "source": [
    "Afin de pouvoir utiliser simple_contour sur ces nouveaux carrés, et depuis les quatre frontières, on introduit dans contour_complex des **translations/dilatations**, pour se ramener au carré considéré depuis le carré [0, 1] X [0, 1]. La translation dépend de i et j : il faut se décaler dans le pavage de i carrés selon les abcisses et de j selon les ordonnées.<br> On implemente de plus une fonction **rotation**, que l'on appliquera 3 fois pour aplliquer simple_contour aux trois autres frontières. Celle-ci est plus dur à réaliser, nous en détaillon le fonctionnement ci-dessous.<br> Il faudra ensuite effectuer les transformations inverses, puis ajouter les points obtenus dans deux listes d'abcisses et d'ordonnées."
   ]
  },
  {
   "cell_type": "markdown",
   "metadata": {},
   "source": [
    "**Rotation** <br>\n",
    "Le principe est d'effectuer une translation pour exprimer les point d'un carré dans un repère dont l'origine est le centre du carré. On obtient ensuite le module et argument de ce point en coordonnées polaires dans ce nouveau repère, grâce à la fonction arctangente, en distinguant les cas 'x' > 0 et 'x' < 0. On ajoute rot * pi/2 à ce dernier, si l'on veut tourner 'rot' fois le carré sur lui-même. On obtient un point de même module mais pivoté.\n"
   ]
  },
  {
   "cell_type": "code",
   "execution_count": 121,
   "metadata": {},
   "outputs": [
    {
     "data": {
      "text/plain": [
       "((0.4, 0.4), (0.6, 0.6), (0.3999999999999999, 0.2), (0.6, 0.09999999999999992))"
      ]
     },
     "execution_count": 121,
     "metadata": {},
     "output_type": "execute_result"
    }
   ],
   "source": [
    "def rotation(x, y, pas, i):                      #pas est la longueur du côté du carré\n",
    "    x, y = x - pas/2, y - pas/2 \n",
    "    h = (x, y)\n",
    "    if x == 0:\n",
    "        return (-y + pas/2, pas/2)\n",
    "    if x > 0:\n",
    "        return (norm(h)*np.cos(np.arctan(y/x) + i*np.pi/2) + pas/2, norm(h)*np.sin(np.arctan(y/x) + i*np.pi/2) + pas/2)\n",
    "    else:\n",
    "        return (norm(h)*np.cos(np.arctan(y/x) + (2 + i)*np.pi/2) + pas/2, norm(h)*np.sin(np.arctan(y/x) + (2 + i)*np.pi/2) + pas/2)\n",
    "    \n",
    "#On teste le fonctionnement   \n",
    "rotation(0.4, 0.6, 1.0, 1), rotation(0.6, 0.6, 1.0, 4), rotation(0.4, 0.2, 1.0, 4), rotation(0.6, 0.1, 1.0, 4)\n"
   ]
  },
  {
   "cell_type": "code",
   "execution_count": 122,
   "metadata": {},
   "outputs": [],
   "source": [
    "def contour_complex(f, c = 0.0, Xc = [0.0, 1.0], Yc = [0.0, 1.0], delta = 0.01):\n",
    "    Xs = [] \n",
    "    Ys = [] \n",
    "    pas = Xc[1] - Xc[0]              #on suppose un pas constant dans la liste Xc et Yc, soit des carrés de tailles égales\n",
    "    \n",
    "    #On souhaite parcourir un à un tous les carrés du pavage.\n",
    "    for i in range(len(Xc) - 1):\n",
    "        for j in range(len(Yc) - 1):\n",
    "            \n",
    "            #on boucle pour effectuer les 4 rotations  \n",
    "            for rot in range(3): \n",
    "                \n",
    "                #on définit une fonction à valeur dans [0, 1] X [0, 1] et qui renvoit grâce à une translation et dilatation \n",
    "                #les valeurs de f dans le carré [Xc[i], Xc[i+1]] X [Yc[i], Yc[i+1]] que l'on a tourné d'un angle rot*pi/2.\n",
    "                def g(x, y):   \n",
    "                    x_new = x * pas + i * pas\n",
    "                    y_new = y * pas + j * pas\n",
    "                    rot_before = rotation(x_new, y_new, pas, rot)\n",
    "                    return f(rot_before[0], rot_before[1])\n",
    "                         \n",
    "                #on applique simple contour, on obtient des points de [0, 1] X [0, 1]     \n",
    "                X_int_1, Y_int_1 = simple_contour(g, c, delta)\n",
    "                                               \n",
    "                #il faut encore tourner ces points et les ramener au bon carré:\n",
    "                X_int_2, Y_int_2 = [], []                                 \n",
    "                for x, y in zip(X_int_1, Y_int_1):\n",
    "                    \n",
    "                    #on fait tourner d'autant dans le même sens, pour retomber sur l'orientation qui a effectivement été utilisée \n",
    "                    #dans simle_contour\n",
    "                    rot_after = rotation(x, y, pas, rot) \n",
    "                    X_int_2.append((rot_after[0] + i)*pas)          \n",
    "                    X_int_2.append((rot_after[1] + j)*pas) \n",
    "                    \n",
    "                #On ajoute enfin les points trouvés\n",
    "                Xs.append(X_int_2) \n",
    "                Ys.append(Y_int_2)\n",
    "    return Xs, Ys\n",
    "        "
   ]
  },
  {
   "cell_type": "markdown",
   "metadata": {},
   "source": [
    "## VI. Tracé du Contour"
   ]
  },
  {
   "cell_type": "markdown",
   "metadata": {},
   "source": [
    "#### Tracé de simple_contour"
   ]
  },
  {
   "cell_type": "code",
   "execution_count": 123,
   "metadata": {},
   "outputs": [
    {
     "data": {
      "image/png": "[encoded data removed]",
      "text/plain": [
       "<Figure size 432x288 with 1 Axes>"
      ]
     },
     "metadata": {
      "needs_background": "light"
     },
     "output_type": "display_data"
    }
   ],
   "source": [
    "X, Y = simple_contour(ff, c = 0, delta = 0.01)\n",
    "plt.plot(X, Y)\n",
    "plt.show()\n",
    "\n",
    "\n"
   ]
  },
  {
   "cell_type": "markdown",
   "metadata": {},
   "source": [
    "#### tracé de contour_complex"
   ]
  },
  {
   "cell_type": "code",
   "execution_count": 128,
   "metadata": {},
   "outputs": [
    {
     "name": "stdout",
     "output_type": "stream",
     "text": [
      "([[], [], []], [[], [], []])\n"
     ]
    }
   ],
   "source": [
    "def f(x, y):\n",
    "    return np.exp(x**2 - y**2 + 1)\n",
    "def g(x, y):\n",
    "    return np.exp(- (x - 1)**2 - (y - 1)**2)\n",
    "\n",
    "def function(x, y):                  #Voici la fonction présentée en exemple dans le sujet.\n",
    "    return 2*(f(x, y) - g(x, y))\n",
    "print(contour_complex(function, c = 0, delta = 0.01))\n",
    "\n",
    "#Xs, Ys = contour_complex(function, c = 0, delta = 0.01)\n",
    "#for x, y in zip(Xs, Ys):\n",
    "#    plt.plot(x, y)\n",
    "#plt.show()\n"
   ]
  },
  {
   "cell_type": "markdown",
   "metadata": {},
   "source": [
    "**Commentaire** On ne réussit pas à tracé la fonction demandée, on obtient la bonne structure (liste de listes) mais sans les points dedans. Il faudrait ensuite tester avec Xc et Yc differents des valeurs par défault."
   ]
  },
  {
   "cell_type": "markdown",
   "metadata": {},
   "source": [
    "## ANNEXES : Erreurs et étapes de raisonnement.\n"
   ]
  },
  {
   "cell_type": "markdown",
   "metadata": {},
   "source": [
    "**simple_contour**: Nous avons eu trois idées succesives pour simple_contour:\n",
    ">**I** La première a été tout d'abord d'utiliser le **Théorème des fonctions implicites** afin de déterminer localement l'existence d'une fonction $\\Psi$ de x donnant la valeur de y = $\\Psi$(x). Ce théorème propose une expression de la diférentielle de $\\Psi$, si elle existe (différentielle partielle par rapport à y inversible en ce point) . Il s'agissait donc d'en vérifier l'existence, puis d'obtenir la dérivée de psi, égale à sa différentielle puisque la fonction f étudiée est de R² dans R². On obtenant les valeurs de y en augmentant la valeur de l'abcisse de 'delta' en 'delta'et en déduisant les valeurs de y en approximant psi par segment grâce à sa dérivée en chaque point. <br>\n",
    "**PROBLEME:** On peut obtenir l'existence d' une fonction psi en chaque point mais *on n'a pas unicité*. On ne peut dés lors pas déduire psi(x0 + delta) à partir de psi(X0), les deux psi étant en fait différentes. De plus, le fait d'augmenter la valeur de x de la même valeur à chaque fois n'est pas réaliste, selon les courbures de la courbe de niveau, on peut dans le meilleur cas perdre en précision et ne pas avoir du tout une distance delat entre chaque point, au pire des cas ne pas être capable de rendre compte d'une courbe qui rebrousse chemin par exemple. <br> <br>\n",
    "**II** La seconde option utilisait déjà le fait que le gradient en un point est orthogonal aux courbes de niveau, mais nous n'allions pas plus en précsion. Voici une version intermédiaire. Nous avions déjà implementé le choix du prochain point parmis les deux situés sur la droite orthoganale au gradient en le point précédent, et situés à une distance delta de l'antépénultieme point, ceci afin d'être sûr de ne pas revenir sur nos pas."
   ]
  },
  {
   "cell_type": "code",
   "execution_count": 113,
   "metadata": {},
   "outputs": [],
   "source": [
    "def simple_contour(f,c=0.0,delta=0.01):\n",
    "    x,y = [],[]\n",
    "    y_init = find_seed(f, c, eps=2**(-26))\n",
    "    if type(y_init) == float:     #nous avons changé depuis le test pour savoir si find_seed renvoie une racine sur la frontière gauche\n",
    "        x.append(0.0)\n",
    "        y.append(y_init)\n",
    "        i=0\n",
    "        nb_test=0\n",
    "        while nb_test<10:\n",
    "            grad_f = grad(f, x[i], y[i])\n",
    "            if norm(grad_f) != 0.0 :\n",
    "                next_point_d_x = x[i] + grad_f[1]*delta/norm(grad_f)\n",
    "                next_point_d_y = y[i] - grad_f[0]*delta/norm(grad_f) \n",
    "                next_point_g_x = x[i] - grad_f[1]*delta/norm(grad_f)\n",
    "                next_point_g_y = y[i] + grad_f[0]*delta/norm(grad_f) \n",
    "                if norm((next_point_d_x - x[i-1], next_point_d_y - y[i-1])) < norm((next_point_g_x - x[i-1], next_point_g_y - y[i-1])) and 0 <= next_point_g_x <=1 and 0 <= next_point_g_y <= 1:\n",
    "                #au lieu de considérer les deux points qu'on peut obtenir à partir de la méthode de la tangente, on prend que les points pour lesquels x augmente 0 <= next_point_d_x <=1 and 0 <= next_point_d_y <= 1:\n",
    "                    x.append(next_point_g_x)\n",
    "                    y.append(next_point_g_y)\n",
    "                    i += 1    \n",
    "                elif norm((next_point_d_x - x[i-1], next_point_d_y - y[i-1])) >= norm((next_point_g_x - x[i-1], next_point_g_y - y[i-1])) and 0 <= next_point_d_x <=1 and 0 <= next_point_d_y <= 1: \n",
    "                    x.append(next_point_d_x)\n",
    "                    y.append(next_point_d_y)\n",
    "                    i += 1                 \n",
    "            nb_test+=1\n",
    "    return (x, y)\n",
    "    "
   ]
  },
  {
   "cell_type": "markdown",
   "metadata": {},
   "source": [
    "Nous pensions alors gagner en précision en nous plaçant sur l'abcisse du point trouvé, mais **en refaisant une méthode** de Newton (de R vers R) ou une dichotomie, pour trouver une valeur plus précise de l'ordonné du point de la ligne de niveau. Nous n'avons pas implémenter cette méthode, qui nous parraissait juste, car nous avons pensé à créer la fonction <br> \n",
    "                                    g: (x, y) $\\in$ R² $\\rightarrow$ (f(x, y), 0)  <br>\n",
    "pour utiliser une méthode de newton de R² vers R², et trouver le point suivant grâce à la jacobienne de la fonction en un point."
   ]
  },
  {
   "cell_type": "markdown",
   "metadata": {},
   "source": [
    "#### contour_complexe\n"
   ]
  },
  {
   "cell_type": "markdown",
   "metadata": {},
   "source": [
    "Pour cette fonction nous pensions dans une premier temps modifier contour_simple et lui faire prendre en argument l'abcisse et l'ordonné du coin haut gauche du carré étudié, sa taille, et la frontière dont on voulait partir. Cela nous parraissait en fait trop compliquer cette fonction. Il était à la fois plus élégant et plus cohérent de traduire des transformations géométriques mathématiquement et de les appliquer pour se ramener au contexte normal d'utilisation de contour_simple: carré [0, 1] X [0, 1] et arrête gauche pour amorcer la recherche."
   ]
  }
 ],
 "metadata": {
  "kernelspec": {
   "display_name": "Python 3",
   "language": "python",
   "name": "python3"
  },
  "language_info": {
   "codemirror_mode": {
    "name": "ipython",
    "version": 3
   },
   "file_extension": ".py",
   "mimetype": "text/x-python",
   "name": "python",
   "nbconvert_exporter": "python",
   "pygments_lexer": "ipython3",
   "version": "3.7.3"
  }
 },
 "nbformat": 4,
 "nbformat_minor": 2
}
